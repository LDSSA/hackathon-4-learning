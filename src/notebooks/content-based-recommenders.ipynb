{
 "cells": [
  {
   "cell_type": "markdown",
   "metadata": {},
   "source": [
    "# Content-based Recommenders"
   ]
  },
  {
   "cell_type": "code",
   "execution_count": 1,
   "metadata": {},
   "outputs": [],
   "source": [
    "import numpy as np\n",
    "import pandas as pd"
   ]
  },
  {
   "cell_type": "markdown",
   "metadata": {},
   "source": [
    "## Key Assumptions"
   ]
  },
  {
   "cell_type": "markdown",
   "metadata": {},
   "source": [
    "The idea that underlyies most recommender systems is the idea of **stable preferences**.\n",
    "\n",
    "In a content-based recommenders, preferences are defined as *content*: a set of attributes that describe the items we are recommending."
   ]
  },
  {
   "cell_type": "code",
   "execution_count": 3,
   "metadata": {},
   "outputs": [],
   "source": [
    "# dataset example goes here"
   ]
  },
  {
   "cell_type": "markdown",
   "metadata": {},
   "source": [
    "We can start by modelling items according to their relevant attributes, i.e. like movies relative to the movie genre above.\n",
    "\n",
    "Then, assuming that user preferences are stable over time, we can *reveal* those preferences by attribute, inferring them from the items the user liked in the past.\n",
    "\n",
    "From there, we can simply recommended new items with the attributes the user prefers the most. We call this *content-based filtering* (or CBF).\n",
    "\n",
    "**A key concept then is building this vector of attribute preferences for each user: a user *profile*.**\n",
    "\n",
    "For this, we need to start with another relevant question: what are the *key* attributes or *differentiators* for any given item?"
   ]
  },
  {
   "cell_type": "markdown",
   "metadata": {},
   "source": [
    "## Term Frequency - Inverse Document Frequency (aka TF-IDF)"
   ]
  },
  {
   "cell_type": "markdown",
   "metadata": {},
   "source": [
    "TF-IDF is a *weighting function*, initially applied in document retrieval and search engines and later adapted to content-based filtering. \n",
    "\n",
    "Why do we need it? Because *not all terms are equally relevant* to describe an item.\n",
    "\n",
    "TF-IDF assumes that **the rarest the term, the more the descriptive power it has**.\n",
    "\n",
    "### TF-IDF Weighting\n",
    "\n",
    "* Term Frequency (TF) = Number of occurences of a term in the document\n",
    "* Inverse Document Frequency (IDF) = How few documents contain this term, where:\n",
    "\n",
    "$$ IDF _{term} = log\\left({\\frac{TotalDocuments}{DocumentsWithTerm}} \\right) $$\n",
    "\n",
    "And, therefore:\n",
    "\n",
    "$$ TFIDF _{term} = TF _{term} * IDF _{term} $$\n",
    "\n",
    "Or, in short, we measure *the term frequency, weighted by its rarity in the entire corpus*.\n",
    "\n",
    "### Tags\n",
    "\n",
    "Tipically, TF-IDF would be applied to documents, containing words in them, and each word being a *term*.\n",
    "\n",
    "A more interesting application though uses *tags*: individual words or phrases, that are applied by the community to describe the item. \n",
    "\n",
    "Just like words in a document, tags can be applied to an item by many different users, thus appearing multiple times.\n",
    "\n",
    "Additionally, some tags will be rare and others quite common in our collection, thus we also need IDF to assess each tag's descriptive power.\n",
    "\n",
    "What TF-IDF will do is **automatically demoting common tags, promoting core tags instead**.\n",
    "\n",
    "In short:\n",
    "\n",
    "$$ IDF _{tag} = log\\left({\\frac{TotalDocuments}{DocumentsWithTag}} \\right) $$\n",
    "\n",
    "And:\n",
    "\n",
    "$$ TFIDF _{tag} = TF _{tag} * IDF _{tag} $$"
   ]
  },
  {
   "cell_type": "code",
   "execution_count": 4,
   "metadata": {},
   "outputs": [],
   "source": [
    "# dataset example goes here"
   ]
  },
  {
   "cell_type": "markdown",
   "metadata": {},
   "source": [
    "### CBF\n",
    "\n",
    "The TF-IDF weighting function can be used to create a profile of an item, as a *weighted vector of its tags*."
   ]
  },
  {
   "cell_type": "code",
   "execution_count": 5,
   "metadata": {},
   "outputs": [],
   "source": [
    "# dataset example goes here"
   ]
  },
  {
   "cell_type": "markdown",
   "metadata": {},
   "source": [
    "Such a profile can be combined with user actions, or user ratings, to create the *user profiles* we need to match against future items."
   ]
  },
  {
   "cell_type": "code",
   "execution_count": 6,
   "metadata": {},
   "outputs": [],
   "source": [
    "# dataset example goes here"
   ]
  },
  {
   "cell_type": "markdown",
   "metadata": {},
   "source": [
    "## Limitations"
   ]
  },
  {
   "cell_type": "markdown",
   "metadata": {},
   "source": [
    "* Defining well-structured attributes, that accurately describe or *represent* the items you want to recommend is no easy task\n",
    "* Especially when such attributes need to align with user preferences, i.e. how the user *reasons* about the items\n",
    "* Depends on a reasonable distribution of attributes across items, and items across attributes\n",
    "* No *serendipity*, unlikely to find surprising connections\n",
    "* Good at finding substitutes, not complements."
   ]
  },
  {
   "cell_type": "markdown",
   "metadata": {},
   "source": [
    "Extra:\n",
    "\n",
    "* The value of allowing users to edit their profile (merge explicit and implicit/actions feedback)\n",
    "\n",
    "* Content-based systems have good explainability\n",
    "\n",
    "* Content-based techniques work without a large set of users, they just need item data (cold-start problem, able to provide a recommendation to the first person using the system)"
   ]
  },
  {
   "cell_type": "code",
   "execution_count": null,
   "metadata": {},
   "outputs": [],
   "source": []
  }
 ],
 "metadata": {
  "kernelspec": {
   "display_name": "Python 3",
   "language": "python",
   "name": "python3"
  },
  "language_info": {
   "codemirror_mode": {
    "name": "ipython",
    "version": 3
   },
   "file_extension": ".py",
   "mimetype": "text/x-python",
   "name": "python",
   "nbconvert_exporter": "python",
   "pygments_lexer": "ipython3",
   "version": "3.6.3"
  }
 },
 "nbformat": 4,
 "nbformat_minor": 2
}

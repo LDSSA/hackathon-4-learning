{
 "cells": [
  {
   "cell_type": "markdown",
   "metadata": {},
   "source": [
    "# Content-based Recommenders"
   ]
  },
  {
   "cell_type": "markdown",
   "metadata": {},
   "source": [
    "## 1 About the Data\n",
    "\n",
    "From the [source](https://www.kaggle.com/prajitdatta/movielens-100k-dataset/):\n",
    "\n",
    "> MovieLens data sets were collected by the GroupLens Research Project\n",
    "at the University of Minnesota.\n",
    "\n",
    "> This data set consists of:\n",
    "* 100,000 ratings (1-5) from 943 users on 1682 movies. \n",
    "* Each user has rated at least 20 movies. \n",
    "    * Simple demographic info for the users (age, gender, occupation, zip)\n",
    "    \n",
    "> The data was collected through the MovieLens web site during the seven-month period from September 19th, \n",
    "1997 through April 22nd, 1998."
   ]
  },
  {
   "cell_type": "code",
   "execution_count": 1,
   "metadata": {},
   "outputs": [],
   "source": [
    "import numpy as np\n",
    "import pandas as pd\n",
    "\n",
    "\n",
    "# Make sure you unzip the .zip file in src/data/ before running this cell\n",
    "def make_data():\n",
    "    \n",
    "    items = make_items_data()\n",
    "    users = make_users_data()\n",
    "    \n",
    "    return items, users\n",
    "\n",
    "\n",
    "def make_items_data():\n",
    "    \n",
    "    colnames = ['movie_id', 'movie_title', 'release_date', 'video_release_date', 'imdb_url', 'unknown', 'action', \n",
    "                'adventure', 'animation', 'children', 'comedy', 'crime', 'documentary', 'drama', 'fantasy', \n",
    "                'film_noir', 'horror', 'musical', 'mystery', 'romance', 'sci_fi', 'thriller', 'war', 'western']\n",
    "    items_all_columns = pd.read_csv('../data/ml-100k/u.item', sep='|', header=None, names=colnames, \n",
    "                                    encoding = 'ISO-8859-1')\n",
    "    items_clean = items_all_columns.drop(['release_date', 'video_release_date', 'imdb_url'], axis=1)\n",
    "    \n",
    "    return items_clean\n",
    "\n",
    "\n",
    "def make_users_data():\n",
    "    \n",
    "    colnames = ['user_id', 'movie_id', 'rating', 'timestamp']\n",
    "    users_all_columns = pd.read_csv('../data/ml-100k/u.data', sep='\\t', header=None, names=colnames, \n",
    "                                    encoding = 'ISO-8859-1')   \n",
    "    users_clean = users_all_columns.drop(['timestamp'], axis=1)\n",
    "    \n",
    "    return users_clean\n",
    "\n",
    "\n",
    "items, users = make_data()"
   ]
  },
  {
   "cell_type": "markdown",
   "metadata": {},
   "source": [
    "The `items` dataframe contains 19 genres: a 1 indicates the movie is of that genre, a 0 indicates it is not and movies can be in several genres at once."
   ]
  },
  {
   "cell_type": "code",
   "execution_count": 2,
   "metadata": {},
   "outputs": [
    {
     "data": {
      "text/html": [
       "<div>\n",
       "<style>\n",
       "    .dataframe thead tr:only-child th {\n",
       "        text-align: right;\n",
       "    }\n",
       "\n",
       "    .dataframe thead th {\n",
       "        text-align: left;\n",
       "    }\n",
       "\n",
       "    .dataframe tbody tr th {\n",
       "        vertical-align: top;\n",
       "    }\n",
       "</style>\n",
       "<table border=\"1\" class=\"dataframe\">\n",
       "  <thead>\n",
       "    <tr style=\"text-align: right;\">\n",
       "      <th></th>\n",
       "      <th>movie_id</th>\n",
       "      <th>movie_title</th>\n",
       "      <th>unknown</th>\n",
       "      <th>action</th>\n",
       "      <th>adventure</th>\n",
       "      <th>animation</th>\n",
       "      <th>children</th>\n",
       "      <th>comedy</th>\n",
       "      <th>crime</th>\n",
       "      <th>documentary</th>\n",
       "      <th>...</th>\n",
       "      <th>fantasy</th>\n",
       "      <th>film_noir</th>\n",
       "      <th>horror</th>\n",
       "      <th>musical</th>\n",
       "      <th>mystery</th>\n",
       "      <th>romance</th>\n",
       "      <th>sci_fi</th>\n",
       "      <th>thriller</th>\n",
       "      <th>war</th>\n",
       "      <th>western</th>\n",
       "    </tr>\n",
       "  </thead>\n",
       "  <tbody>\n",
       "    <tr>\n",
       "      <th>0</th>\n",
       "      <td>1</td>\n",
       "      <td>Toy Story (1995)</td>\n",
       "      <td>0</td>\n",
       "      <td>0</td>\n",
       "      <td>0</td>\n",
       "      <td>1</td>\n",
       "      <td>1</td>\n",
       "      <td>1</td>\n",
       "      <td>0</td>\n",
       "      <td>0</td>\n",
       "      <td>...</td>\n",
       "      <td>0</td>\n",
       "      <td>0</td>\n",
       "      <td>0</td>\n",
       "      <td>0</td>\n",
       "      <td>0</td>\n",
       "      <td>0</td>\n",
       "      <td>0</td>\n",
       "      <td>0</td>\n",
       "      <td>0</td>\n",
       "      <td>0</td>\n",
       "    </tr>\n",
       "    <tr>\n",
       "      <th>1</th>\n",
       "      <td>2</td>\n",
       "      <td>GoldenEye (1995)</td>\n",
       "      <td>0</td>\n",
       "      <td>1</td>\n",
       "      <td>1</td>\n",
       "      <td>0</td>\n",
       "      <td>0</td>\n",
       "      <td>0</td>\n",
       "      <td>0</td>\n",
       "      <td>0</td>\n",
       "      <td>...</td>\n",
       "      <td>0</td>\n",
       "      <td>0</td>\n",
       "      <td>0</td>\n",
       "      <td>0</td>\n",
       "      <td>0</td>\n",
       "      <td>0</td>\n",
       "      <td>0</td>\n",
       "      <td>1</td>\n",
       "      <td>0</td>\n",
       "      <td>0</td>\n",
       "    </tr>\n",
       "    <tr>\n",
       "      <th>2</th>\n",
       "      <td>3</td>\n",
       "      <td>Four Rooms (1995)</td>\n",
       "      <td>0</td>\n",
       "      <td>0</td>\n",
       "      <td>0</td>\n",
       "      <td>0</td>\n",
       "      <td>0</td>\n",
       "      <td>0</td>\n",
       "      <td>0</td>\n",
       "      <td>0</td>\n",
       "      <td>...</td>\n",
       "      <td>0</td>\n",
       "      <td>0</td>\n",
       "      <td>0</td>\n",
       "      <td>0</td>\n",
       "      <td>0</td>\n",
       "      <td>0</td>\n",
       "      <td>0</td>\n",
       "      <td>1</td>\n",
       "      <td>0</td>\n",
       "      <td>0</td>\n",
       "    </tr>\n",
       "  </tbody>\n",
       "</table>\n",
       "<p>3 rows × 21 columns</p>\n",
       "</div>"
      ],
      "text/plain": [
       "   movie_id        movie_title  unknown  action  adventure  animation  \\\n",
       "0         1   Toy Story (1995)        0       0          0          1   \n",
       "1         2   GoldenEye (1995)        0       1          1          0   \n",
       "2         3  Four Rooms (1995)        0       0          0          0   \n",
       "\n",
       "   children  comedy  crime  documentary   ...     fantasy  film_noir  horror  \\\n",
       "0         1       1      0            0   ...           0          0       0   \n",
       "1         0       0      0            0   ...           0          0       0   \n",
       "2         0       0      0            0   ...           0          0       0   \n",
       "\n",
       "   musical  mystery  romance  sci_fi  thriller  war  western  \n",
       "0        0        0        0       0         0    0        0  \n",
       "1        0        0        0       0         1    0        0  \n",
       "2        0        0        0       0         1    0        0  \n",
       "\n",
       "[3 rows x 21 columns]"
      ]
     },
     "execution_count": 2,
     "metadata": {},
     "output_type": "execute_result"
    }
   ],
   "source": [
    "items.head(n=3)"
   ]
  },
  {
   "cell_type": "markdown",
   "metadata": {},
   "source": [
    "The `users` dataframe containt the full dataset, 100000 ratings (1-5) by 943 users on 1,682 items. Each user has rated at least 20 movies."
   ]
  },
  {
   "cell_type": "code",
   "execution_count": 3,
   "metadata": {
    "scrolled": true
   },
   "outputs": [
    {
     "data": {
      "text/html": [
       "<div>\n",
       "<style>\n",
       "    .dataframe thead tr:only-child th {\n",
       "        text-align: right;\n",
       "    }\n",
       "\n",
       "    .dataframe thead th {\n",
       "        text-align: left;\n",
       "    }\n",
       "\n",
       "    .dataframe tbody tr th {\n",
       "        vertical-align: top;\n",
       "    }\n",
       "</style>\n",
       "<table border=\"1\" class=\"dataframe\">\n",
       "  <thead>\n",
       "    <tr style=\"text-align: right;\">\n",
       "      <th></th>\n",
       "      <th>user_id</th>\n",
       "      <th>movie_id</th>\n",
       "      <th>rating</th>\n",
       "    </tr>\n",
       "  </thead>\n",
       "  <tbody>\n",
       "    <tr>\n",
       "      <th>0</th>\n",
       "      <td>196</td>\n",
       "      <td>242</td>\n",
       "      <td>3</td>\n",
       "    </tr>\n",
       "    <tr>\n",
       "      <th>1</th>\n",
       "      <td>186</td>\n",
       "      <td>302</td>\n",
       "      <td>3</td>\n",
       "    </tr>\n",
       "    <tr>\n",
       "      <th>2</th>\n",
       "      <td>22</td>\n",
       "      <td>377</td>\n",
       "      <td>1</td>\n",
       "    </tr>\n",
       "  </tbody>\n",
       "</table>\n",
       "</div>"
      ],
      "text/plain": [
       "   user_id  movie_id  rating\n",
       "0      196       242       3\n",
       "1      186       302       3\n",
       "2       22       377       1"
      ]
     },
     "execution_count": 3,
     "metadata": {},
     "output_type": "execute_result"
    }
   ],
   "source": [
    "users.head(n=3)"
   ]
  },
  {
   "cell_type": "markdown",
   "metadata": {},
   "source": [
    "## 2 Building a Content-Based Filtering Recommender (TL;DR)\n",
    "\n",
    "The whole point of content-based filtering is to build up a profile of the things a users likes, and use it to *predict* his or her liking of other items.\n",
    "\n",
    "The universe of all possible item attributes defines a *content-space*, and each item has a position in that space (see [vector space](https://en.wikipedia.org/wiki/Vector_space_model)), that describes its content.\n",
    "\n",
    "The key concept is building a vector of item attribute preferences for each user - what we call a *user profile* - and use that to make predictions.\n",
    "\n",
    "Item profiles can be combined with user actions to create the user profiles we need to match against future items.\n",
    "\n",
    "The user profile is a vector in the same content-space, and the match between the user's profile and the item is measured by how closely the two align.\n",
    "\n",
    "This is how this is typically done:\n",
    "\n",
    "1. Collect or compute item vectors that describe items in the corpus' content-space (e.g. document text, keywords, tags, metadata)\n",
    "2. Use item vectors and user actions to build user profiles as vectors that reveal user preferences in the same content-space\n",
    "3. Predict user interest in previously unseen items of the corpus."
   ]
  },
  {
   "cell_type": "markdown",
   "metadata": {},
   "source": [
    "## 2 Item Attributes"
   ]
  },
  {
   "cell_type": "markdown",
   "metadata": {},
   "source": [
    "### 2.1 Item Vectors"
   ]
  },
  {
   "cell_type": "markdown",
   "metadata": {},
   "source": [
    "In a content-based recommenders, preferences are defined as *content*: a set of attributes that describe the items we are recommending.\n",
    "\n",
    "We should start by modelling items according to their relevant attributes, i.e. like movies relative to the movie genre.\n",
    "\n",
    "The good thing is: this is already done for us in the dataset! Terry Gilliam's Twelve Monkeys is modelled as drama and sci-fi, for example."
   ]
  },
  {
   "cell_type": "code",
   "execution_count": 4,
   "metadata": {},
   "outputs": [
    {
     "data": {
      "text/plain": [
       "movie_id                           7\n",
       "movie_title    Twelve Monkeys (1995)\n",
       "unknown                            0\n",
       "action                             0\n",
       "adventure                          0\n",
       "animation                          0\n",
       "children                           0\n",
       "comedy                             0\n",
       "crime                              0\n",
       "documentary                        0\n",
       "drama                              1\n",
       "fantasy                            0\n",
       "film_noir                          0\n",
       "horror                             0\n",
       "musical                            0\n",
       "mystery                            0\n",
       "romance                            0\n",
       "sci_fi                             1\n",
       "thriller                           0\n",
       "war                                0\n",
       "western                            0\n",
       "Name: 6, dtype: object"
      ]
     },
     "execution_count": 4,
     "metadata": {},
     "output_type": "execute_result"
    }
   ],
   "source": [
    "items.iloc[6]"
   ]
  },
  {
   "cell_type": "markdown",
   "metadata": {},
   "source": [
    "From there, and this is the idea that underlyies most recommender systems, we use the priciple of **stable preferences**.\n",
    "\n",
    "Assuming that user preferences are stable over time, we can *reveal* those preferences by attribute, inferring them from the items the user liked in the past.\n",
    "\n",
    "From there, we can simply recommended new items with the attributes the user prefers the most. We call this *content-based filtering* (or CBF, here onwards).\n",
    "\n",
    "**In short, assuming I like Twelve Monkeys, and in a nutshell, therefore I like drama and sci-fi.**\n",
    "\n",
    "Note you could use attributes or *tags* other than movie genres, like the director or the main actors, for example. Who doesn't love [coconut Patsy](http://gypsyastronaut.tumblr.com/post/130763390464/monty-python-and-the-quest-for-the-holy-grail-patsy)? :)"
   ]
  },
  {
   "cell_type": "markdown",
   "metadata": {},
   "source": [
    "### 2.2 User Profiles"
   ]
  },
  {
   "cell_type": "code",
   "execution_count": 5,
   "metadata": {},
   "outputs": [],
   "source": [
    "def make_user_profiles(users, items):\n",
    "\n",
    "    data = users.merge(items)\n",
    "    tags = data.iloc[:, 4:].multiply(data['rating'], axis=0)\n",
    "    user_profiles = pd.concat([data.iloc[:, 0:1], tags], axis=1).groupby('user_id').sum()\n",
    "    # normalization is not needed here but makes results more interpretable\n",
    "    user_profiles = user_profiles.divide(user_profiles.sum(axis=1), axis=0)\n",
    "    \n",
    "    return user_profiles\n",
    "\n",
    "\n",
    "user_profiles = make_user_profiles(users, items)"
   ]
  },
  {
   "cell_type": "markdown",
   "metadata": {},
   "source": [
    "### 2.3 Predictions"
   ]
  },
  {
   "cell_type": "code",
   "execution_count": 7,
   "metadata": {},
   "outputs": [
    {
     "data": {
      "text/plain": [
       "movie_id\n",
       "337    0.802834\n",
       "4      0.796729\n",
       "74     0.796729\n",
       "316    0.737100\n",
       "953    0.737100\n",
       "dtype: float64"
      ]
     },
     "execution_count": 7,
     "metadata": {},
     "output_type": "execute_result"
    }
   ],
   "source": [
    "def make_predictions(user_profiles, items, user_id):\n",
    "    \n",
    "    user = user_profiles.loc[user_id]\n",
    "    corr = items.apply(lambda x: x.corr(user), axis=1)\n",
    "    corr = corr.sort_values(ascending=False)\n",
    "    \n",
    "    return corr\n",
    "\n",
    "\n",
    "items_indexed = items.drop(['movie_title'], axis=1).set_index('movie_id')\n",
    "make_predictions(user_profiles, items_indexed, user_id=92).head(n=5)"
   ]
  },
  {
   "cell_type": "markdown",
   "metadata": {},
   "source": [
    "## 3 Item Normalization\n",
    "\n",
    "It's important to make all the vectors the same length, so we don't penalize more obscure items.\n",
    "\n",
    "You may have noticed that a movie with many genres checked will have more influence on the user profile than one that had only a few. True?"
   ]
  },
  {
   "cell_type": "code",
   "execution_count": null,
   "metadata": {},
   "outputs": [],
   "source": [
    "# do second implementation here"
   ]
  },
  {
   "cell_type": "markdown",
   "metadata": {},
   "source": [
    "## 4 Attribute Relevance"
   ]
  },
  {
   "cell_type": "markdown",
   "metadata": {},
   "source": [
    "What are the key attributes or *differentiators* of any given item, based on the different frequencies of each attribute?\n",
    "\n",
    "TF-IDF stands for *Term Frequency - Inverse Document Frequency* and is a *weighting function*, initially applied in information retrieval and adapted to content-based filtering.\n",
    "\n",
    "Why do we need it? Because *not all terms are equally relevant* to describe an item. TF-IDF assumes that rare terms have more descriptive power.\n",
    "\n",
    "Now, be aware tough that rarity doesn't imply more significance in all contexts, but we will assume it is for the sake of this example.\n",
    "\n",
    "### 4.1 TF-IDF Weighting\n",
    "\n",
    "* Term Frequency (TF), i.e. *intensity* = Number of occurences of a term in the document\n",
    "* Inverse Document Frequency (IDF), i.e. *distinctiveness* = How few documents contain this term, where:\n",
    "\n",
    "$$ IDF _{term} = log\\left({\\frac{TotalDocuments}{DocumentsWithTerm}} \\right) $$\n",
    "\n",
    "And, thus:\n",
    "\n",
    "$$ TFIDF _{term} = TF _{term} * IDF _{term} $$\n",
    "\n",
    "Or, in short, we measure *the term frequency, weighted by its rarity in the entire corpus*.\n",
    "\n",
    "### 4.2 Tags\n",
    "\n",
    "Tipically, TF-IDF would be applied to documents, containing words in them, and each word being a *term*.\n",
    "\n",
    "A more interesting application though uses *tags*: individual words or phrases, that are applied by the community to describe the item. \n",
    "\n",
    "Just like words in a document, tags can be applied to an item by many different users, thus appearing multiple times.\n",
    "\n",
    "Additionally, some tags are rare, while others are quite common in our collection, thus we also need IDF to assess descriptive power.\n",
    "\n",
    "$$ IDF _{tag} = log\\left({\\frac{TotalDocuments}{DocumentsWithTag}} \\right) $$\n",
    "\n",
    "And, thus:\n",
    "\n",
    "$$ TFIDF _{tag} = TF _{tag} * IDF _{tag} $$\n",
    "\n",
    "What TF-IDF will do is **automatically demoting common tags, promoting core tags instead**.\n",
    "\n",
    "### 4.3 Metadata\n",
    "\n",
    "Explain students how to do this using metadata, i.e. no frequency problem (relevant for challenge).\n",
    "\n",
    "Reference to *top attributes*, maybe in the example?"
   ]
  },
  {
   "cell_type": "code",
   "execution_count": null,
   "metadata": {},
   "outputs": [],
   "source": [
    "# do third implementation here"
   ]
  },
  {
   "cell_type": "markdown",
   "metadata": {},
   "source": [
    "### CBF\n",
    "\n",
    "The TF-IDF weighting function can be used to create a profile of an item, as a *weighted vector of its tags*."
   ]
  },
  {
   "cell_type": "code",
   "execution_count": null,
   "metadata": {},
   "outputs": [],
   "source": [
    "# dataset example goes here"
   ]
  },
  {
   "cell_type": "markdown",
   "metadata": {},
   "source": [
    "## Building a CBF Recommender System\n",
    "\n",
    "### User Profiles\n",
    "\n",
    "In principle, we add up the item vectors the user has liked in the past.\n",
    "\n",
    "Two things to take into consideration:\n",
    "\n",
    "* *Weighting* - are all items the user has liked in the past equally important (e.g. highest and lowest ratings could count more, recency, confidence, etc.)?"
   ]
  },
  {
   "cell_type": "markdown",
   "metadata": {},
   "source": [
    "## Limitations"
   ]
  },
  {
   "cell_type": "markdown",
   "metadata": {},
   "source": [
    "* Vector-space model conflates the concepts liking and importance\n",
    "* Defining well-structured attributes, that accurately describe or *represent* the items you want to recommend is no easy task\n",
    "* Especially when such attributes need to align with user preferences, i.e. how the user *reasons* about the items\n",
    "* Depends on a reasonable distribution of attributes across items, and items across attributes\n",
    "* No *serendipity*, unlikely to find surprising connections\n",
    "* Good at finding substitutes, not complements\n",
    "* Cannot handle interdependencies, e.g. if I like violent sci-fi, and historical documentaries, but not historical sci-fi (weird) or violent documentaries"
   ]
  },
  {
   "cell_type": "markdown",
   "metadata": {},
   "source": [
    "Extra:\n",
    "\n",
    "* The value of allowing users to edit their profile (merge explicit and implicit/actions feedback)\n",
    "* Understandable profile\n",
    "* Content-based systems have good explainability\n",
    "* Content-based techniques work without a large set of users, they just need item data (cold-start problem, able to provide a recommendation to the first person using the system)\n",
    "\n",
    "Tips:\n",
    "\n",
    "* Normalize rating scale\n",
    "* Reducing the keyword space so that similar terms are grouped together"
   ]
  }
 ],
 "metadata": {
  "kernelspec": {
   "display_name": "Python 3",
   "language": "python",
   "name": "python3"
  },
  "language_info": {
   "codemirror_mode": {
    "name": "ipython",
    "version": 3
   },
   "file_extension": ".py",
   "mimetype": "text/x-python",
   "name": "python",
   "nbconvert_exporter": "python",
   "pygments_lexer": "ipython3",
   "version": "3.6.3"
  }
 },
 "nbformat": 4,
 "nbformat_minor": 2
}
